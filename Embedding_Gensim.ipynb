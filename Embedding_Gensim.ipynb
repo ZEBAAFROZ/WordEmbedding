{
  "nbformat": 4,
  "nbformat_minor": 0,
  "metadata": {
    "colab": {
      "provenance": [],
      "gpuType": "T4",
      "authorship_tag": "ABX9TyPCDdk53vCJnGivQHrAzpGf",
      "include_colab_link": true
    },
    "kernelspec": {
      "name": "python3",
      "display_name": "Python 3"
    },
    "language_info": {
      "name": "python"
    },
    "accelerator": "GPU"
  },
  "cells": [
    {
      "cell_type": "markdown",
      "metadata": {
        "id": "view-in-github",
        "colab_type": "text"
      },
      "source": [
        "<a href=\"https://colab.research.google.com/github/ZEBAAFROZ/WordEmbedding/blob/main/Embedding_Gensim.ipynb\" target=\"_parent\"><img src=\"https://colab.research.google.com/assets/colab-badge.svg\" alt=\"Open In Colab\"/></a>"
      ]
    },
    {
      "cell_type": "code",
      "execution_count": 1,
      "metadata": {
        "id": "vG5_sKOBcSjW",
        "colab": {
          "base_uri": "https://localhost:8080/"
        },
        "outputId": "cb80f481-cb38-41e7-c11b-9e2ea65af5fe"
      },
      "outputs": [
        {
          "output_type": "stream",
          "name": "stdout",
          "text": [
            "Requirement already satisfied: gensim==4.* in /usr/local/lib/python3.10/dist-packages (4.3.2)\n",
            "Requirement already satisfied: numpy>=1.18.5 in /usr/local/lib/python3.10/dist-packages (from gensim==4.*) (1.23.5)\n",
            "Requirement already satisfied: scipy>=1.7.0 in /usr/local/lib/python3.10/dist-packages (from gensim==4.*) (1.10.1)\n",
            "Requirement already satisfied: smart-open>=1.8.1 in /usr/local/lib/python3.10/dist-packages (from gensim==4.*) (6.3.0)\n"
          ]
        }
      ],
      "source": [
        "\n",
        "!pip install -U gensim==4.*"
      ]
    },
    {
      "cell_type": "code",
      "source": [
        "import collections\n",
        "import matplotlib.pyplot as plt\n",
        "import numpy as np\n",
        "import pandas as pd\n",
        "import spacy\n",
        "import tensorflow as tf\n",
        "\n",
        "from gensim.models.keyedvectors import KeyedVectors\n",
        "from sklearn.decomposition import PCA\n",
        "from sklearn.model_selection import train_test_split\n",
        "from tensorflow import keras\n",
        "from tensorflow.keras import layers"
      ],
      "metadata": {
        "id": "s84rvgnvOP6h"
      },
      "execution_count": 2,
      "outputs": []
    },
    {
      "cell_type": "code",
      "source": [
        "!gdown \"https://drive.google.com/uc?id=1BpfbHu4denceXiv8yfdY3EHgjKIcULku\""
      ],
      "metadata": {
        "colab": {
          "base_uri": "https://localhost:8080/"
        },
        "id": "F3FiO38NOP3o",
        "outputId": "4b0eddae-dd38-4f02-db26-c71d20a002de"
      },
      "execution_count": 3,
      "outputs": [
        {
          "output_type": "stream",
          "name": "stdout",
          "text": [
            "Downloading...\n",
            "From: https://drive.google.com/uc?id=1BpfbHu4denceXiv8yfdY3EHgjKIcULku\n",
            "To: /content/GoogleNews-vectors-negative300.bin.gz\n",
            "100% 1.65G/1.65G [00:28<00:00, 57.8MB/s]\n"
          ]
        }
      ]
    },
    {
      "cell_type": "code",
      "source": [
        "embedding_file = './GoogleNews-vectors-negative300.bin.gz'"
      ],
      "metadata": {
        "id": "Dc-d6hQcOP05"
      },
      "execution_count": 4,
      "outputs": []
    },
    {
      "cell_type": "code",
      "source": [
        "%%time\n",
        "word_vectors = KeyedVectors.load_word2vec_format(embedding_file, binary=True, limit=200000)"
      ],
      "metadata": {
        "colab": {
          "base_uri": "https://localhost:8080/"
        },
        "id": "V0PjAhqAOPya",
        "outputId": "9503e5d4-389d-4f9d-f3e8-2d24071a2359"
      },
      "execution_count": 5,
      "outputs": [
        {
          "output_type": "stream",
          "name": "stdout",
          "text": [
            "CPU times: user 2.91 s, sys: 166 ms, total: 3.07 s\n",
            "Wall time: 3.07 s\n"
          ]
        }
      ]
    },
    {
      "cell_type": "code",
      "source": [
        "pizza = word_vectors['pizza']\n",
        "print(f'Vector dimension: {pizza.shape}')\n",
        "\n",
        "# The embedding for the word 'pizza'.\n",
        "print(pizza)"
      ],
      "metadata": {
        "colab": {
          "base_uri": "https://localhost:8080/"
        },
        "id": "z79SzwopOPvN",
        "outputId": "3a9e49a1-bc83-4838-99dd-2ec8861cc3a8"
      },
      "execution_count": 6,
      "outputs": [
        {
          "output_type": "stream",
          "name": "stdout",
          "text": [
            "Vector dimension: (300,)\n",
            "[-1.25976562e-01  2.53906250e-02  1.66992188e-01  5.50781250e-01\n",
            " -7.66601562e-02  1.28906250e-01  1.02539062e-01 -3.94821167e-04\n",
            "  1.21582031e-01  4.32128906e-02  1.72851562e-01 -6.83593750e-02\n",
            "  3.41796875e-01  8.39843750e-02  6.68945312e-02  2.67578125e-01\n",
            " -3.71093750e-02 -5.56640625e-02  1.80664062e-01  1.90429688e-02\n",
            " -5.07812500e-02  9.03320312e-03  1.76757812e-01  6.49414062e-02\n",
            " -6.25000000e-02 -9.42382812e-02 -9.71679688e-02  4.00390625e-01\n",
            "  1.15234375e-01  1.02539062e-01 -1.86767578e-02 -2.69531250e-01\n",
            "  1.80664062e-01  1.25000000e-01 -3.17382812e-02 -5.49316406e-02\n",
            "  3.45703125e-01 -1.57470703e-02  1.82390213e-05  2.07031250e-01\n",
            " -1.25976562e-01 -2.83203125e-01  2.00195312e-01  8.34960938e-02\n",
            " -4.73632812e-02 -3.11279297e-02 -2.61718750e-01  1.69921875e-01\n",
            " -2.02636719e-02  1.53320312e-01 -1.20605469e-01  3.75000000e-01\n",
            " -5.68847656e-02 -4.76074219e-03 -1.95312500e-01 -2.03125000e-01\n",
            "  3.00781250e-01 -1.01074219e-01 -3.18359375e-01 -9.03320312e-02\n",
            " -1.19140625e-01  1.95312500e-01 -8.78906250e-02  1.58203125e-01\n",
            "  1.51977539e-02 -1.60156250e-01 -3.30078125e-01 -4.66796875e-01\n",
            "  1.68945312e-01  2.23388672e-02  1.55273438e-01  1.08398438e-01\n",
            " -3.56445312e-02  9.13085938e-02 -8.69140625e-02 -1.20117188e-01\n",
            " -3.08593750e-01 -2.61230469e-02 -7.22656250e-02 -4.80468750e-01\n",
            "  3.78417969e-02 -1.35742188e-01 -1.02539062e-01 -2.91015625e-01\n",
            " -1.93359375e-01 -4.21875000e-01 -1.06445312e-01  3.55468750e-01\n",
            "  1.66992188e-01 -3.63159180e-03 -7.42187500e-02 -3.22265625e-01\n",
            " -7.51953125e-02 -8.25195312e-02 -2.91015625e-01 -1.25976562e-01\n",
            "  1.68457031e-02  5.00488281e-02  1.27929688e-01 -7.42187500e-02\n",
            " -1.30859375e-01 -2.46093750e-01  6.49414062e-02  1.53320312e-01\n",
            "  2.59765625e-01 -1.05468750e-01  3.57421875e-01 -4.29687500e-02\n",
            " -1.58203125e-01  8.20312500e-02 -5.98144531e-02 -2.34375000e-01\n",
            " -3.22265625e-01 -1.25976562e-01  5.39550781e-02 -1.87500000e-01\n",
            "  1.35742188e-01 -6.59179688e-02  8.36181641e-03 -1.84570312e-01\n",
            " -2.96875000e-01 -1.84570312e-01 -4.73632812e-02 -1.06445312e-01\n",
            " -6.93359375e-02  3.83300781e-02 -3.19824219e-02  3.63769531e-02\n",
            " -1.20117188e-01  1.76757812e-01 -1.15722656e-01  1.98974609e-02\n",
            "  8.64257812e-02  6.07910156e-02 -1.40625000e-01  3.30078125e-01\n",
            "  1.94335938e-01 -1.56250000e-01  3.92578125e-01  1.80816650e-03\n",
            "  7.27539062e-02 -2.53906250e-01 -3.54003906e-02  2.86865234e-03\n",
            " -1.72851562e-01  9.76562500e-03 -1.55639648e-02  3.23486328e-03\n",
            " -1.69921875e-01  1.55273438e-01  7.17773438e-02  4.10156250e-01\n",
            " -2.10937500e-01  1.31835938e-01  7.62939453e-03  4.78515625e-02\n",
            " -4.54101562e-02  7.32421875e-02 -4.06250000e-01 -2.06298828e-02\n",
            " -4.04296875e-01 -1.00585938e-01 -2.03125000e-01  1.55273438e-01\n",
            " -1.89453125e-01  6.59179688e-02  6.54296875e-02 -2.05078125e-01\n",
            "  5.46875000e-02 -3.06396484e-02 -1.54296875e-01 -2.61718750e-01\n",
            "  3.81469727e-03 -8.20312500e-02 -3.20312500e-01  2.84423828e-02\n",
            "  2.69531250e-01  1.73828125e-01 -1.66992188e-01  2.22656250e-01\n",
            "  6.34765625e-02 -1.96289062e-01  1.45507812e-01 -1.56250000e-02\n",
            "  2.60009766e-02 -6.29882812e-02  2.94189453e-02  3.28125000e-01\n",
            " -4.68750000e-02 -1.52343750e-01  6.98242188e-02  3.18359375e-01\n",
            " -1.08398438e-01  3.66210938e-02 -1.99218750e-01  1.64031982e-03\n",
            "  6.40869141e-03 -1.47460938e-01 -6.25000000e-02 -4.36401367e-03\n",
            " -2.75390625e-01  8.54492188e-02 -5.00488281e-02 -3.12500000e-01\n",
            " -1.33789062e-01 -1.99218750e-01  5.17578125e-02 -9.27734375e-02\n",
            " -2.40234375e-01 -7.86132812e-02 -1.54296875e-01 -6.64062500e-02\n",
            " -1.97265625e-01  1.76757812e-01 -1.57226562e-01 -1.63085938e-01\n",
            "  6.00585938e-02 -5.85937500e-02 -2.22656250e-01 -6.59179688e-02\n",
            " -9.37500000e-02 -4.14062500e-01  2.55859375e-01 -1.76757812e-01\n",
            "  2.51953125e-01  1.48437500e-01 -1.04492188e-01 -8.60595703e-03\n",
            " -1.22558594e-01 -9.22851562e-02  4.41894531e-02 -1.70898438e-01\n",
            " -1.98242188e-01  1.92382812e-01  2.85156250e-01 -4.34570312e-02\n",
            "  1.08398438e-01 -5.37109375e-02 -2.09960938e-02  1.46484375e-01\n",
            "  3.82812500e-01  2.31933594e-02 -8.83789062e-02  7.32421875e-02\n",
            " -1.01074219e-01 -1.06445312e-01  4.12109375e-01  2.10937500e-01\n",
            "  2.79296875e-01 -2.08740234e-02  2.07031250e-01  9.81445312e-02\n",
            "  2.39257812e-01  7.66601562e-02  2.02148438e-01 -6.07910156e-02\n",
            " -2.63977051e-03 -1.83593750e-01 -1.57470703e-02 -3.20312500e-01\n",
            "  9.03320312e-02  1.02050781e-01 -4.96093750e-01 -9.71679688e-02\n",
            " -8.10546875e-02 -1.80664062e-01 -1.45507812e-01  8.64257812e-02\n",
            " -2.04101562e-01 -2.02148438e-01 -5.46875000e-02  2.53906250e-01\n",
            "  2.08740234e-02 -1.15722656e-01  2.02148438e-01 -8.05664062e-02\n",
            " -1.04980469e-01 -7.95898438e-02  1.96533203e-02 -2.49023438e-01\n",
            "  1.30859375e-01  2.89062500e-01 -2.25585938e-01  4.55078125e-01\n",
            " -2.73437500e-01 -2.57812500e-01 -3.14941406e-02  4.04296875e-01\n",
            " -2.67578125e-01  2.89062500e-01 -1.83593750e-01 -1.48437500e-01\n",
            " -1.06933594e-01  1.27929688e-01  5.46875000e-01 -8.69140625e-02\n",
            " -1.48315430e-02  6.98242188e-02 -8.49609375e-02 -1.55273438e-01]\n"
          ]
        }
      ]
    },
    {
      "cell_type": "code",
      "source": [
        "print(word_vectors.similarity('pizza', 'tomato'))\n",
        "print(word_vectors.similarity('pizza', 'sauce'))\n",
        "print(word_vectors.similarity('pizza', 'cheese'))"
      ],
      "metadata": {
        "colab": {
          "base_uri": "https://localhost:8080/"
        },
        "id": "h159LIEnOPra",
        "outputId": "87d0d081-52f2-45dd-cf21-cda66b12b065"
      },
      "execution_count": 7,
      "outputs": [
        {
          "output_type": "stream",
          "name": "stdout",
          "text": [
            "0.35505623\n",
            "0.36959887\n",
            "0.47083578\n"
          ]
        }
      ]
    },
    {
      "cell_type": "code",
      "source": [
        "print(word_vectors.similarity('pizza', 'gorilla'))\n",
        "print(word_vectors.similarity('pizza', 'tree'))\n",
        "print(word_vectors.similarity('pizza', 'yoga'))"
      ],
      "metadata": {
        "colab": {
          "base_uri": "https://localhost:8080/"
        },
        "id": "Z7y3L5vTOZOs",
        "outputId": "2ad241f9-a70e-4fd7-af91-37615cb1f582"
      },
      "execution_count": 8,
      "outputs": [
        {
          "output_type": "stream",
          "name": "stdout",
          "text": [
            "0.108518735\n",
            "0.11185601\n",
            "0.14119941\n"
          ]
        }
      ]
    },
    {
      "cell_type": "code",
      "source": [
        "try:\n",
        "  word_vectors['womblyboo']\n",
        "except KeyError as e:\n",
        "  print(e)"
      ],
      "metadata": {
        "colab": {
          "base_uri": "https://localhost:8080/"
        },
        "id": "N9mVvYsnOZMc",
        "outputId": "1ba5bbbd-0fc7-405e-ee7e-10d058e96313"
      },
      "execution_count": 9,
      "outputs": [
        {
          "output_type": "stream",
          "name": "stdout",
          "text": [
            "\"Key 'womblyboo' not present\"\n"
          ]
        }
      ]
    },
    {
      "cell_type": "code",
      "source": [
        "word_vectors.n_similarity(\"dog bites man\".split(), \"canine nips human\".split())"
      ],
      "metadata": {
        "colab": {
          "base_uri": "https://localhost:8080/"
        },
        "id": "BhdV5ytMOZJ4",
        "outputId": "7e45e98a-e33e-41e3-c478-aba4ad321d7f"
      },
      "execution_count": 10,
      "outputs": [
        {
          "output_type": "execute_result",
          "data": {
            "text/plain": [
              "0.5314661"
            ]
          },
          "metadata": {},
          "execution_count": 10
        }
      ]
    },
    {
      "cell_type": "code",
      "source": [
        "word_vectors.n_similarity(\"martian dolphins are hostile\".split(), \"i flunked calligraphy school\".split())"
      ],
      "metadata": {
        "colab": {
          "base_uri": "https://localhost:8080/"
        },
        "id": "DdXkEm1lOZEd",
        "outputId": "fc6b570a-c63c-4256-9711-fb159bcb6397"
      },
      "execution_count": 11,
      "outputs": [
        {
          "output_type": "execute_result",
          "data": {
            "text/plain": [
              "0.14505777"
            ]
          },
          "metadata": {},
          "execution_count": 11
        }
      ]
    },
    {
      "cell_type": "code",
      "source": [
        "word_vectors.n_similarity(\"dog bites man\".split(), \"man bites dog\".split())"
      ],
      "metadata": {
        "colab": {
          "base_uri": "https://localhost:8080/"
        },
        "id": "eXmv6pHJOdmS",
        "outputId": "09d6fa3c-b58f-4aae-d652-a20630a83d7c"
      },
      "execution_count": 12,
      "outputs": [
        {
          "output_type": "execute_result",
          "data": {
            "text/plain": [
              "1.0"
            ]
          },
          "metadata": {},
          "execution_count": 12
        }
      ]
    },
    {
      "cell_type": "code",
      "source": [
        "s1 = \"Volkswagen intends to double electric car sales in China\".lower().split()\n",
        "s2 = \"First Toyota with solid state battery will be hybrid\".lower().split()\n",
        "word_vectors.n_similarity(s1, s2)"
      ],
      "metadata": {
        "colab": {
          "base_uri": "https://localhost:8080/"
        },
        "id": "7ZavFFueOdjc",
        "outputId": "24e20e85-dfd9-46e7-ccd8-782dace77b03"
      },
      "execution_count": 13,
      "outputs": [
        {
          "output_type": "execute_result",
          "data": {
            "text/plain": [
              "0.52682734"
            ]
          },
          "metadata": {},
          "execution_count": 13
        }
      ]
    },
    {
      "cell_type": "code",
      "source": [
        "word_vectors.most_similar(positive=['cell'], topn=10)"
      ],
      "metadata": {
        "colab": {
          "base_uri": "https://localhost:8080/"
        },
        "id": "r6xRwPJ9Odgq",
        "outputId": "dd5df414-8797-4ce4-dcaa-5d48f6aad853"
      },
      "execution_count": 14,
      "outputs": [
        {
          "output_type": "execute_result",
          "data": {
            "text/plain": [
              "[('cells', 0.8180485367774963),\n",
              " ('Cells', 0.6146953105926514),\n",
              " ('Cell', 0.5321314930915833),\n",
              " ('cellular', 0.5272858142852783),\n",
              " ('tumor_cells', 0.5097643136978149),\n",
              " ('ES_cells', 0.4866572618484497),\n",
              " ('immune_cells', 0.4831920266151428),\n",
              " ('epithelial_cells', 0.47818055748939514),\n",
              " ('molecule', 0.47757473587989807),\n",
              " ('proteins', 0.4749472737312317)]"
            ]
          },
          "metadata": {},
          "execution_count": 14
        }
      ]
    },
    {
      "cell_type": "code",
      "source": [
        "word_vectors.most_similar(positive=['cell', 'phone'], topn=10)"
      ],
      "metadata": {
        "colab": {
          "base_uri": "https://localhost:8080/"
        },
        "id": "1aS34lkuOigx",
        "outputId": "2cb2a6ec-8af2-4128-820c-a43e62d6632c"
      },
      "execution_count": 15,
      "outputs": [
        {
          "output_type": "execute_result",
          "data": {
            "text/plain": [
              "[('cell_phone', 0.6861391067504883),\n",
              " ('cellular', 0.6757438778877258),\n",
              " ('cellphone', 0.6633196473121643),\n",
              " ('telephone', 0.6474039554595947),\n",
              " ('Phone', 0.605189323425293),\n",
              " ('phones', 0.5896332859992981),\n",
              " ('cells', 0.585094690322876),\n",
              " ('cordless_phone', 0.5711769461631775),\n",
              " ('Cell', 0.5617641806602478),\n",
              " ('landline', 0.5467296242713928)]"
            ]
          },
          "metadata": {},
          "execution_count": 15
        }
      ]
    },
    {
      "cell_type": "code",
      "source": [
        "word_vectors.doesnt_match([\"apple\", \"orange\", \"hamburger\", \"banana\", \"kiwi\"])"
      ],
      "metadata": {
        "colab": {
          "base_uri": "https://localhost:8080/",
          "height": 35
        },
        "id": "i1e3gvtSOico",
        "outputId": "2fd41cea-22b6-49e0-8159-83ca14d733cf"
      },
      "execution_count": 16,
      "outputs": [
        {
          "output_type": "execute_result",
          "data": {
            "text/plain": [
              "'hamburger'"
            ],
            "application/vnd.google.colaboratory.intrinsic+json": {
              "type": "string"
            }
          },
          "metadata": {},
          "execution_count": 16
        }
      ]
    },
    {
      "cell_type": "code",
      "source": [
        "word_vectors.doesnt_match([\"Microsoft\", \"Apple\", \"Toyota\", \"Amazon\", \"Netflix\", \"Google\"])"
      ],
      "metadata": {
        "colab": {
          "base_uri": "https://localhost:8080/",
          "height": 35
        },
        "id": "jrthiAv9OiZp",
        "outputId": "78bbb3bc-5210-4660-a34c-38dd54e80f42"
      },
      "execution_count": 17,
      "outputs": [
        {
          "output_type": "execute_result",
          "data": {
            "text/plain": [
              "'Toyota'"
            ],
            "application/vnd.google.colaboratory.intrinsic+json": {
              "type": "string"
            }
          },
          "metadata": {},
          "execution_count": 17
        }
      ]
    },
    {
      "cell_type": "code",
      "source": [
        "def display_pca_scatterplot(model, words):\n",
        "    word_vectors = np.array([model[w] for w in words])\n",
        "\n",
        "    twodim = PCA().fit_transform(word_vectors)[:,:2]\n",
        "\n",
        "    plt.figure(figsize=(10,10))\n",
        "    plt.scatter(twodim[:,0], twodim[:,1], edgecolors='k', c='r', s=128)\n",
        "    for word, (x,y) in zip(words, twodim):\n",
        "        plt.text(x+0.05, y+0.05, word)"
      ],
      "metadata": {
        "id": "bjnn5qvUOnND"
      },
      "execution_count": 18,
      "outputs": []
    },
    {
      "cell_type": "code",
      "source": [
        "display_pca_scatterplot(word_vectors, ['swim', 'swimming', 'cat', 'dog', 'feline', 'road', 'car', 'bus'])"
      ],
      "metadata": {
        "colab": {
          "base_uri": "https://localhost:8080/",
          "height": 808
        },
        "id": "Tuq2mV4xOnJ3",
        "outputId": "de178f35-d2e1-4e68-b6b8-b65383e785af"
      },
      "execution_count": 19,
      "outputs": [
        {
          "output_type": "display_data",
          "data": {
            "text/plain": [
              "<Figure size 1000x1000 with 1 Axes>"
            ],
            "image/png": "[encoded data removed]"
          },
          "metadata": {}
        }
      ]
    },
    {
      "cell_type": "code",
      "source": [
        "word_vectors.most_similar(positive=['Italy', 'London'], negative=['Rome'], topn=3)"
      ],
      "metadata": {
        "colab": {
          "base_uri": "https://localhost:8080/"
        },
        "id": "osh8gGcpOnF0",
        "outputId": "52ee51ed-8eb9-48cd-a26c-aaa1e36aaf4e"
      },
      "execution_count": 20,
      "outputs": [
        {
          "output_type": "execute_result",
          "data": {
            "text/plain": [
              "[('UK', 0.6230568885803223),\n",
              " ('Britain', 0.6016390323638916),\n",
              " ('United_Kingdom', 0.534345805644989)]"
            ]
          },
          "metadata": {},
          "execution_count": 20
        }
      ]
    },
    {
      "cell_type": "code",
      "source": [
        "display_pca_scatterplot(word_vectors, ['Rome', 'Italy', 'London', 'Britain', 'UK'])"
      ],
      "metadata": {
        "colab": {
          "base_uri": "https://localhost:8080/",
          "height": 814
        },
        "id": "4WbibYeXOqhE",
        "outputId": "442fecfa-90d3-4068-8da1-fe4e7715d04a"
      },
      "execution_count": 21,
      "outputs": [
        {
          "output_type": "display_data",
          "data": {
            "text/plain": [
              "<Figure size 1000x1000 with 1 Axes>"
            ],
            "image/png": "[encoded data removed]"
          },
          "metadata": {}
        }
      ]
    },
    {
      "cell_type": "code",
      "source": [],
      "metadata": {
        "id": "gV3aJrRJOqec"
      },
      "execution_count": null,
      "outputs": []
    },
    {
      "cell_type": "code",
      "source": [],
      "metadata": {
        "id": "wYGBukarOqbn"
      },
      "execution_count": null,
      "outputs": []
    }
  ]
}